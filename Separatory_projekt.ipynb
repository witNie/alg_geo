{
  "nbformat": 4,
  "nbformat_minor": 0,
  "metadata": {
    "colab": {
      "provenance": []
    },
    "kernelspec": {
      "name": "python3",
      "display_name": "Python 3"
    },
    "language_info": {
      "name": "python"
    }
  },
  "cells": [
    {
      "cell_type": "code",
      "execution_count": null,
      "metadata": {
        "id": "5QgkRghHv5Yp",
        "colab": {
          "base_uri": "https://localhost:8080/",
          "height": 472
        },
        "outputId": "8a2d1534-336f-4bc1-92c0-de6743b74498"
      },
      "outputs": [
        {
          "output_type": "display_data",
          "data": {
            "text/plain": [
              "<Figure size 640x480 with 1 Axes>"
            ],
            "image/png": "[encoded data removed]"
          },
          "metadata": {}
        },
        {
          "output_type": "stream",
          "name": "stdout",
          "text": [
            "[]\n"
          ]
        }
      ],
      "source": [
        "import matplotlib.pyplot as plt\n",
        "from matplotlib.lines import Line2D\n",
        "\n",
        "class LineDrawer:\n",
        "    def __init__(self, ax):\n",
        "        self.ax = ax\n",
        "        self.start_point = None\n",
        "        self.graph = []\n",
        "        self.points_dict = {}\n",
        "        self.vertices = 0\n",
        "        self.tolerance = 0.2\n",
        "\n",
        "        self.cid_press = ax.figure.canvas.mpl_connect('button_press_event', self.on_click)\n",
        "\n",
        "    def dist(self, x1, y1, x2, y2):\n",
        "        return ((x1-x2)**2 + (y1-y2)**2)**(1/2)\n",
        "\n",
        "    def get_closest(self, x, y):\n",
        "        # find closest vertex\n",
        "        min_dist = float('inf')\n",
        "        min_vertex = None\n",
        "        for k, v in self.points_dict.items():\n",
        "            dist = self.dist(x, y, *v)\n",
        "            if dist < min_dist:\n",
        "                min_vertex = k\n",
        "                min_dist = dist\n",
        "        # latch to it if its close enough\n",
        "        if min_dist < self.tolerance:\n",
        "            return min_vertex\n",
        "        else:\n",
        "            point = self.vertices\n",
        "            self.vertices += 1\n",
        "            self.graph.append([[], []])\n",
        "            self.points_dict[point] = (x, y)\n",
        "\n",
        "            return point\n",
        "\n",
        "    def on_click(self, event):\n",
        "        if event.button == 1:\n",
        "            self.on_left_click(event)\n",
        "        elif event.button == 3:\n",
        "            self.on_right_click(event)\n",
        "\n",
        "    def insert_sorted(self, to, ins):\n",
        "        # 0 = in, 1 = out\n",
        "        if not self.graph[to]:\n",
        "            if self.points_dict[to][1] < self.points_dict[ins][1]:\n",
        "                self.graph[to][0].append(ins)\n",
        "            else:\n",
        "                self.graph[to][1].append(ins)\n",
        "        else:\n",
        "            if self.points_dict[to][1] < self.points_dict[ins][1]:\n",
        "                out = False\n",
        "            else:\n",
        "                out = True\n",
        "\n",
        "            ins_x = self.points_dict[ins][0]\n",
        "            for i, v in enumerate(self.graph[to][out]):\n",
        "                if ins_x < self.points_dict[v][0]:\n",
        "                    self.graph[to][out].insert(i, ins)\n",
        "                    break\n",
        "            else:\n",
        "                self.graph[to][out].append(ins)\n",
        "\n",
        "\n",
        "    def on_left_click(self, event):\n",
        "        new_start = self.get_closest(event.xdata, event.ydata)\n",
        "        print(new_start)\n",
        "        if self.start_point is not None:\n",
        "            x0, y0 = self.points_dict[self.start_point]\n",
        "            x1, y1 = self.points_dict[new_start]\n",
        "            print(x0, y0, x1, y1)\n",
        "\n",
        "            line = Line2D([x0, x1], [y0, y1], color='blue', lw=2, picker=True)\n",
        "            self.insert_sorted(self.start_point, new_start)\n",
        "            self.insert_sorted(new_start, self.start_point)\n",
        "            self.ax.add_line(line)\n",
        "\n",
        "            self.start_point = (x1, y1)\n",
        "\n",
        "            self.ax.figure.canvas.draw()\n",
        "        self.start_point = new_start\n",
        "\n",
        "    def on_right_click(self, event):\n",
        "        self.start_point = None\n",
        "\n",
        "\n",
        "fig, ax = plt.subplots()\n",
        "ax.set_xlim(0, 10)\n",
        "ax.set_ylim(0, 10)\n",
        "\n",
        "drawer = LineDrawer(ax)\n",
        "plt.show()\n",
        "print(drawer.graph)\n",
        "points_dict = drawer.points_dict"
      ]
    },
    {
      "cell_type": "code",
      "source": [
        "graph = [\n",
        "[1, 3, 2],\n",
        "[0, 6],\n",
        "[0, 3, 4],\n",
        "[0, 2, 6, 5, 4],\n",
        "[3, 2, 5, 8, 7],\n",
        "[3, 4, 6, 8],\n",
        "[1, 3, 5, 8],\n",
        "[4, 8],\n",
        "[6,5,4,7]\n",
        "]\n",
        "graph_list = [\n",
        "    # IN\n",
        "    [[],\n",
        "    [0],\n",
        "    [0],\n",
        "    [0, 2],\n",
        "    [3, 2],\n",
        "    [3, 4],\n",
        "    [1, 3, 5],\n",
        "    [4],\n",
        "    [6,5,4,7]],\n",
        "    # OUT\n",
        "    [[1, 3, 2],\n",
        "    [6],\n",
        "    [3, 4],\n",
        "    [6, 5, 4],\n",
        "    [5, 8, 7],\n",
        "    [6, 8],\n",
        "    [8],\n",
        "    [8],\n",
        "    []]\n",
        "\n",
        "]\n",
        "\n",
        "graph_list2 = [[[], [1, 3, 2]], [[0], [6]], [[0], [3, 4]], [[0, 2], [6, 5, 4]], [[3, 2], [5, 8, 7]], [[3, 4], [6, 8]], [[1, 5, 3], [8]], [[4], [8]], [[6, 5, 4, 7], []]]\n",
        "points_dict = {0: (5.435483870967742, 8.982683982683982), 1: (1.7419354838709675, 7.900432900432901), 2: (7.661290322580644, 7.2943722943722955), 3: (5.548387096774194, 5.9523809523809526), 4: (7.661290322580644, 4.5021645021645025), 5: (5.225806451612904, 3.8311688311688314), 6: (1.8870967741935485, 2.22943722943723), 7: (7.241935483870968, 1.1688311688311692), 8: (4.612903225806452, 0.6709956709956713)}\n",
        "\n",
        "\n"
      ],
      "metadata": {
        "id": "vdfg_tBBbcpK"
      },
      "execution_count": null,
      "outputs": []
    },
    {
      "cell_type": "code",
      "source": [
        "sorted_vertices = sorted(points_dict.items(), key=lambda item: item[1][1])\n",
        "sorted_vertices = [key for key, _ in sorted_vertices]"
      ],
      "metadata": {
        "id": "xYb1UjfsfimX"
      },
      "execution_count": null,
      "outputs": []
    },
    {
      "cell_type": "code",
      "source": [
        "def generate_weights(G_list):\n",
        "    n = len(G_list)\n",
        "    IN = [a for a, b in G_list]\n",
        "    OUT = [b for a, b in G_list]\n",
        "\n",
        "    W = [[1 for _ in range(n)] for _ in range(n)]\n",
        "\n",
        "    # first loop\n",
        "    for i in range(n):\n",
        "        W_IN = 0\n",
        "        for el in IN[i]:\n",
        "            W_IN += W[el][i]\n",
        "        W_OUT = 0\n",
        "        for el in OUT[i]:\n",
        "            W_OUT += W[i][el]\n",
        "        if len(OUT[i]) > 0 and W_IN > W_OUT:\n",
        "            u = OUT[i][0]\n",
        "            W[i][u] += W_IN - W_OUT\n",
        "\n",
        "    # second loop\n",
        "    for i in range(n-1, -1, -1):\n",
        "        W_IN = 0\n",
        "        for el in IN[i]:\n",
        "            W_IN += W[i][el]\n",
        "        W_OUT = 0\n",
        "        for el in OUT[i]:\n",
        "            W_OUT += W[i][el]\n",
        "        if len(IN[i]) > 0 and W_OUT > W_IN:\n",
        "            u = IN[i][0]\n",
        "            W[u][i] += W_OUT - W_IN\n",
        "\n",
        "    result_G = [[[] for _ in range(n)] for _ in range(2)]\n",
        "    for i in range(n):\n",
        "        for el in IN[i]:\n",
        "            result_G[0][i].append((el, W[el][i]))\n",
        "        for el in OUT[i]:\n",
        "            result_G[1][i].append((el, W[i][el]))\n",
        "    return result_G"
      ],
      "metadata": {
        "id": "fIjlKUikh6L8"
      },
      "execution_count": null,
      "outputs": []
    },
    {
      "cell_type": "code",
      "source": [
        "#test\n",
        "res = generate_weights(graph_list2)\n",
        "print(\"IN:\")\n",
        "for i, row in enumerate(res[0]):\n",
        "    print(i, end=\": \")\n",
        "    print(row)\n",
        "print(\"OUT: \")\n",
        "for i, row in enumerate(res[1]):\n",
        "    print(i, end=\": \")\n",
        "    print(row)\n",
        "\n",
        "# print(res)"
      ],
      "metadata": {
        "colab": {
          "base_uri": "https://localhost:8080/"
        },
        "id": "EitiNQtgh8dd",
        "outputId": "5fb866b5-f3e5-4206-f73b-90236149d80a"
      },
      "execution_count": null,
      "outputs": [
        {
          "output_type": "stream",
          "name": "stdout",
          "text": [
            "IN:\n",
            "0: []\n",
            "1: [(0, 1)]\n",
            "2: [(0, 2)]\n",
            "3: [(0, 3), (2, 1)]\n",
            "4: [(3, 2), (2, 1)]\n",
            "5: [(3, 1), (4, 1)]\n",
            "6: [(1, 1), (5, 1), (3, 1)]\n",
            "7: [(4, 1)]\n",
            "8: [(6, 3), (5, 1), (4, 1), (7, 1)]\n",
            "OUT: \n",
            "0: [(1, 1), (3, 3), (2, 2)]\n",
            "1: [(6, 1)]\n",
            "2: [(3, 1), (4, 1)]\n",
            "3: [(6, 1), (5, 1), (4, 2)]\n",
            "4: [(5, 1), (8, 1), (7, 1)]\n",
            "5: [(6, 1), (8, 1)]\n",
            "6: [(8, 3)]\n",
            "7: [(8, 1)]\n",
            "8: []\n"
          ]
        }
      ]
    },
    {
      "cell_type": "code",
      "source": [
        "def generate_separators(G_list):\n",
        "    OUT = G_list[1]\n",
        "    n = len(G_list[1])\n",
        "    separators = []\n",
        "    while len(OUT[0]) > 0:\n",
        "        path = [0]\n",
        "        pivot = 0\n",
        "        while pivot != n-1:\n",
        "            new_pivot, weight = OUT[pivot][0]\n",
        "            path.append(new_pivot)\n",
        "            if weight > 1:\n",
        "                OUT[pivot][0] = (new_pivot, weight-1)\n",
        "            else:\n",
        "                OUT[pivot].pop(0)\n",
        "            pivot = new_pivot\n",
        "        separators.append(path)\n",
        "    return separators"
      ],
      "metadata": {
        "id": "kNjbJ15k6RnA"
      },
      "execution_count": null,
      "outputs": []
    },
    {
      "cell_type": "code",
      "source": [
        "# test\n",
        "weights = generate_weights(graph_list2)\n",
        "separators = generate_separators(weights)\n",
        "print(separators)\n",
        "print(len(separators))"
      ],
      "metadata": {
        "colab": {
          "base_uri": "https://localhost:8080/"
        },
        "id": "-623jWBX6U-R",
        "outputId": "b78eade8-3a1a-40d5-8631-a228112cdcb8"
      },
      "execution_count": null,
      "outputs": [
        {
          "output_type": "stream",
          "name": "stdout",
          "text": [
            "[[0, 1, 6, 8], [0, 3, 6, 8], [0, 3, 5, 6, 8], [0, 3, 4, 5, 8], [0, 2, 3, 4, 8], [0, 2, 4, 7, 8]]\n",
            "6\n"
          ]
        }
      ]
    },
    {
      "cell_type": "code",
      "source": [],
      "metadata": {
        "id": "0NCiSEFb_3OR"
      },
      "execution_count": null,
      "outputs": []
    },
    {
      "cell_type": "code",
      "source": [
        "class Node:\n",
        "  def __init__(self, val, index):\n",
        "    self.left = None\n",
        "    self.right = None\n",
        "    self.index = index\n",
        "    self.edges = val\n",
        "\n",
        "  def __repr__(self):\n",
        "    return str(self.index) + \" \" + str(self.edges)\n",
        "\n",
        "class BST:\n",
        "  def __init__(self):\n",
        "    self.root = None\n",
        "\n",
        "  def get_edges(self, separator, visited):\n",
        "    edges = []\n",
        "    for i in range(len(separator)-1):\n",
        "      if ((separator[i], separator[i+1]) not in visited) or True:\n",
        "        edges.append((separator[i], separator[i+1]))\n",
        "    return edges\n",
        "\n",
        "  def make_tree(self, separators):\n",
        "    self.root = self._make_tree(separators, [], 0)\n",
        "\n",
        "  def _make_tree(self, separators, visited, left):\n",
        "    if len(separators) == 0:\n",
        "      return None\n",
        "\n",
        "    center_idx = len(separators)//2\n",
        "    edges = self.get_edges(separators[center_idx], visited)\n",
        "    node = Node(edges, left+center_idx+1)\n",
        "    node.left = self._make_tree(separators[:center_idx], visited + edges, left)\n",
        "    node.right = self._make_tree(separators[center_idx+1:], visited + edges, center_idx+1)\n",
        "    return node\n",
        "\n",
        "  def print_tree(self):\n",
        "    print('ROOT '+str(self.root))\n",
        "    def _print_tree(node, level):\n",
        "        if node.left is not None:\n",
        "            print('    '*level + 'LEFT ' + str(node.left))\n",
        "            _print_tree(node.left, level+1)\n",
        "        if node.right is not None:\n",
        "            print('    '*level + 'RIGHT ' + str(node.right))\n",
        "            _print_tree(node.right, level+1)\n",
        "    if self.root is not None:\n",
        "        _print_tree(self.root, 1)\n",
        "\n",
        "\n",
        "tree = BST()\n",
        "separators = [[0,1,6,8],[0,3,6,8],[0,3,5,6,8],[0,3,4,5,8],[0,2,3,4,8],[0,2,4,7,8]]\n",
        "tree.make_tree(separators)\n",
        "tree.print_tree()\n",
        "\n"
      ],
      "metadata": {
        "id": "OJIkN-XliNEe",
        "colab": {
          "base_uri": "https://localhost:8080/"
        },
        "outputId": "19d35c54-7359-424f-e321-5a64b211ad90"
      },
      "execution_count": null,
      "outputs": [
        {
          "output_type": "stream",
          "name": "stdout",
          "text": [
            "ROOT 4 [(0, 3), (3, 4), (4, 5), (5, 8)]\n",
            "    LEFT 2 [(0, 3), (3, 6), (6, 8)]\n",
            "        LEFT 1 [(0, 1), (1, 6), (6, 8)]\n",
            "        RIGHT 3 [(0, 3), (3, 5), (5, 6), (6, 8)]\n",
            "    RIGHT 6 [(0, 2), (2, 4), (4, 7), (7, 8)]\n",
            "        LEFT 5 [(0, 2), (2, 3), (3, 4), (4, 8)]\n"
          ]
        }
      ]
    },
    {
      "cell_type": "code",
      "source": [
        "def mat_det_2x2(a, b, c):\n",
        "    return (a[0]-c[0])*(b[1]-c[1]) - (a[1]-c[1])*(b[0]-c[0])\n"
      ],
      "metadata": {
        "id": "Cmt4DjwV53_h"
      },
      "execution_count": null,
      "outputs": []
    },
    {
      "cell_type": "code",
      "source": [
        "def bin_search(point, separator):\n",
        "  a = 0\n",
        "  b = len(separator)\n",
        "  while b - a > 0:\n",
        "    middle = (b+a)//2\n",
        "    node1 = points_dict[separator[middle][0]]\n",
        "    node2 = points_dict[separator[middle][1]]\n",
        "    if node1[1] > node2[1]:\n",
        "      node1, node2 = node2, node1\n",
        "    if node2[1] < point[1]:\n",
        "      b = middle\n",
        "    elif node2[1] > point[1] and node1[1] < point[1]:\n",
        "      return middle\n",
        "    else:\n",
        "      a = middle + 1\n",
        "  return None"
      ],
      "metadata": {
        "id": "9H_-0-8pvd7E"
      },
      "execution_count": null,
      "outputs": []
    },
    {
      "cell_type": "code",
      "source": [
        "def sep_search(point, node, last):\n",
        "    print(\"INDEX\", node.index)\n",
        "    separator = node.edges\n",
        "    i = bin_search(point, separator)\n",
        "    print(i)\n",
        "    if i == None:\n",
        "        orient = last\n",
        "    else:\n",
        "        orient = -mat_det_2x2(points_dict[separator[i][0]], points_dict[separator[i][1]], point)\n",
        "    print(orient)\n",
        "    if orient < 0:\n",
        "        if node.right == None:\n",
        "            return (node.index, node.index+1)\n",
        "        else:\n",
        "            return sep_search(point, node.right, -1)\n",
        "    else:\n",
        "        if node.left == None:\n",
        "            return (node.index-1, node.index)\n",
        "        else:\n",
        "            return sep_search(point, node.left, 1)"
      ],
      "metadata": {
        "id": "a0xUKqq9yLV-"
      },
      "execution_count": null,
      "outputs": []
    },
    {
      "cell_type": "code",
      "source": [
        "print(sep_search((5, 8), tree.root, None))"
      ],
      "metadata": {
        "colab": {
          "base_uri": "https://localhost:8080/"
        },
        "id": "Hu5dvt1_zehv",
        "outputId": "9e34a11e-77c9-401f-f77b-f548f0b53c15"
      },
      "execution_count": null,
      "outputs": [
        {
          "output_type": "stream",
          "name": "stdout",
          "text": [
            "INDEX 4\n",
            "0\n",
            "1.4305962854349952\n",
            "INDEX 2\n",
            "0\n",
            "1.4305962854349952\n",
            "INDEX 1\n",
            "0\n",
            "-3.158287948610527\n",
            "(1, 2)\n"
          ]
        }
      ]
    },
    {
      "cell_type": "code",
      "source": [
        "def get_region(point, separator1, separator2):\n",
        "  pointer1 = 0\n",
        "  pointer2 = 0\n",
        "  left = [0]\n",
        "  right = [0]\n",
        "\n",
        "  while True:\n",
        "    print(pointer1, pointer2, left, right)\n",
        "    if separator1[pointer1] == separator2[pointer2]:\n",
        "      if points_dict[separator1[pointer1]][1] < point[1]:\n",
        "        return right + list(reversed(left[1:-1]))\n",
        "      else:\n",
        "        left = [separator1[pointer1], separator1[pointer1+1]]\n",
        "        right = [separator2[pointer2]]\n",
        "        pointer1 += 1\n",
        "    if points_dict[separator1[pointer1]][1] > points_dict[separator2[pointer2]][1]:\n",
        "      pointer1 += 1\n",
        "      left.append(separator1[pointer1])\n",
        "    else:\n",
        "      pointer2 += 1\n",
        "      right.append(separator2[pointer2])\n",
        "\n",
        "print(get_region((7, 5.8), separators[4], separators[5]))"
      ],
      "metadata": {
        "colab": {
          "base_uri": "https://localhost:8080/"
        },
        "id": "4MaeLKX6gWyV",
        "outputId": "9f9c5f14-ef2a-4e29-8d5b-b75d9dceb52c"
      },
      "execution_count": null,
      "outputs": [
        {
          "output_type": "stream",
          "name": "stdout",
          "text": [
            "0 0 [0] [0]\n",
            "1 1 [0, 2] [0, 2]\n",
            "2 2 [2, 3] [2, 4]\n",
            "3 2 [2, 3, 4] [2, 4]\n",
            "[2, 4, 3]\n"
          ]
        }
      ]
    },
    {
      "cell_type": "code",
      "source": [
        "from math import inf\n",
        "\n",
        "EPS = 10**(-9)\n",
        "class Line:\n",
        "    def __init__(self, start, end):\n",
        "        self.start = start\n",
        "        self.end = end\n",
        "        if self.end[0] != self.start[0]:\n",
        "            self.a = (self.end[1] - self.start[1]) / (self.end[0] - self.start[0])\n",
        "            self.b = self.start[1] - self.a * self.start[0]\n",
        "        else:\n",
        "            self.a = None\n",
        "            self.b = self.start[0]\n",
        "\n",
        "    def __repr__(self):\n",
        "        if self.a is None:\n",
        "            return f'Line({self.b})'\n",
        "        else:\n",
        "            return f'Line({self.start}, {self.end})'\n",
        "\n",
        "\n",
        "class Section:\n",
        "    def __init__(self, helper, left, right):\n",
        "        self.helper = helper\n",
        "        self.left = left\n",
        "        self.right = right\n",
        "        self.mustConnect = []\n",
        "\n",
        "    def __repr__(self):\n",
        "        return str(self.helper) + \" : [\" + str(self.left) + \" > \" + str(self.right) + \"]\"\n",
        "\n",
        "    def calc_X(self, Y):\n",
        "\n",
        "        if self.left.a is None:\n",
        "            leftBound = self.left.b\n",
        "        elif self.left.a == 0:\n",
        "            leftBound = self.left.b\n",
        "        else:\n",
        "            leftBound = (Y - self.left.b) / self.left.a\n",
        "        if self.right.a is None:\n",
        "            rightBound = self.right.b\n",
        "        elif self.right.a == 0:\n",
        "            rightBound = self.right.b\n",
        "        else:\n",
        "            rightBound = (Y - self.right.b) / self.right.a\n",
        "        return (leftBound, rightBound)\n",
        "\n",
        "    def contains_point(self, point):\n",
        "        bounds = self.calc_X(point[1])\n",
        "        if point[0] > bounds[0] and point[0] <= bounds[1] + EPS:\n",
        "            return 0\n",
        "        elif point[0] <= bounds[0]:\n",
        "            return -1\n",
        "        return 1\n",
        "\n",
        "\n",
        "def orient(a, b, c):\n",
        "    return (a[0] - c[0]) * (b[1] - c[1]) - (a[1] - c[1]) * (b[0] - c[0])\n",
        "\n",
        "\n",
        "def cmp(pivot, a, b):\n",
        "    return -orient(pivot, a, b)\n",
        "\n",
        "\n",
        "def bin_search(sections, point):\n",
        "    L, R = 0, len(sections) - 1\n",
        "    while L < R:\n",
        "        M = (L + R) // 2\n",
        "        val = sections[M].contains_point(point)\n",
        "        if val == 0:\n",
        "            return M\n",
        "\n",
        "        elif val == -1:\n",
        "            R = M\n",
        "        else:\n",
        "            L = M + 1\n",
        "    return L\n",
        "\n",
        "\n",
        "# g_dict jest posortowany względem Y\n",
        "def sweep(g_dict, g_in, g_out):\n",
        "    added_edges = set()\n",
        "    sections = []\n",
        "    n = len(g_in)\n",
        "    left = Line((-inf, inf), (-inf, -inf))\n",
        "    right = Line(g_dict[0], g_dict[g_out[0][0]])\n",
        "    new_section = Section(0, left, right)\n",
        "    sections.append(new_section)\n",
        "    for i in range(len(g_out[0]) - 1):\n",
        "        left = sections[i-1].right\n",
        "        right = Line(g_dict[0], g_dict[g_out[0][i + 1]])\n",
        "        new_section = Section(0, left, right)\n",
        "        sections.append(new_section)\n",
        "    left = Line(g_dict[0], g_dict[g_out[0][-1]])\n",
        "    right = Line((inf, inf), (inf, -inf))\n",
        "    new_section = Section(0, left, right)\n",
        "    sections.append(new_section)\n",
        "    # print(\"sections\", sections)\n",
        "    for i in range(1, n - 1):\n",
        "        # print(\"i\", i)\n",
        "        IN = len(g_in[i])\n",
        "        OUT = len(g_out[i])\n",
        "        # print(\"IN, OUT\", IN, OUT)\n",
        "        ind = bin_search(sections, g_dict[i])\n",
        "        # print(\"ind\", ind)\n",
        "        # print(\"cont: \", sections[ind].contains_point(g_dict[i]))\n",
        "        # print(\"bound\")\n",
        "        if IN == 0:\n",
        "            added_edges.add((sections[ind].helper, i))\n",
        "            # print(\"!!!!!!!!!\")\n",
        "        for _ in range(IN + 1):\n",
        "            s = sections.pop(ind)\n",
        "            for a in s.mustConnect:\n",
        "                added_edges.add((a, i))\n",
        "\n",
        "        if OUT == 0:\n",
        "            if ind != 0:\n",
        "                left = sections[ind - 1].right\n",
        "            else:\n",
        "                left = Line((-inf, inf), (-inf, -inf))\n",
        "\n",
        "            if ind != len(sections):\n",
        "                right = sections[ind].left\n",
        "            else:\n",
        "                right = Line((inf, inf), (inf, -inf))\n",
        "            new_section = Section(i, left, right)\n",
        "            new_section.mustConnect.append(i)\n",
        "            sections.insert(ind, new_section)\n",
        "        if OUT > 0:\n",
        "            if ind != 0:\n",
        "                left = sections[ind - 1].right\n",
        "            else:\n",
        "                left = Line((-inf, inf), (-inf, -inf))\n",
        "            right = Line(g_dict[i], g_dict[g_out[i][0]])\n",
        "            new_section = Section(i, left, right)\n",
        "            sections.insert(ind, new_section)\n",
        "            ind += 1\n",
        "            for j in range(1, OUT):\n",
        "                left = sections[ind - 1].right\n",
        "                right = Line(g_dict[i], g_dict[g_out[i][j]])\n",
        "                new_section = Section(i, left, right)\n",
        "                sections.insert(ind, new_section)\n",
        "                ind += 1\n",
        "            if ind < len(sections):\n",
        "                left = sections[ind - 1].right\n",
        "                right = sections[ind].left\n",
        "                new_section = Section(i, left, right)\n",
        "                sections.insert(ind, new_section)\n",
        "            else:\n",
        "                left = sections[ind - 1].right\n",
        "                right = Line((inf, -inf), (inf, inf))\n",
        "                new_section = Section(i, left, right)\n",
        "                sections.insert(ind, new_section)\n",
        "    IN = len(g_in[-1])\n",
        "    for _ in range(IN + 1):\n",
        "        s = sections.pop(0)\n",
        "        for a in s.mustConnect:\n",
        "            added_edges.add((a, n - 1))\n",
        "    return added_edges\n"
      ],
      "metadata": {
        "id": "EwEYZV5PIM71"
      },
      "execution_count": null,
      "outputs": []
    },
    {
      "cell_type": "markdown",
      "source": [],
      "metadata": {
        "id": "uYOqvtR4NCtK"
      }
    }
  ]
}